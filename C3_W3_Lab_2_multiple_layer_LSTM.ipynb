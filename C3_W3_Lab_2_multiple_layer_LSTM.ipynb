{
    "metadata": {
        "kernelspec": {
            "name": "python3",
            "display_name": "Python 3 (ipykernel)",
            "language": "python"
        },
        "language_info": {
            "name": "python",
            "version": "3.8.10",
            "mimetype": "text/x-python",
            "codemirror_mode": {
                "name": "ipython",
                "version": 3
            },
            "pygments_lexer": "ipython3",
            "nbconvert_exporter": "python",
            "file_extension": ".py"
        },
        "accelerator": "GPU",
        "colab": {
            "collapsed_sections": [],
            "name": "C3_W3_Lab_2_multiple_layer_LSTM.ipynb",
            "private_outputs": true,
            "provenance": []
        }
    },
    "nbformat_minor": 2,
    "nbformat": 4,
    "cells": [
        {
            "cell_type": "markdown",
            "source": [
                "<a href=\"https://colab.research.google.com/github/https-deeplearning-ai/tensorflow-1-public/blob/master/C3/W3/ungraded_labs/C3_W3_Lab_2_multiple_layer_LSTM.ipynb\" target=\"_parent\"><img src=\"https://colab.research.google.com/assets/colab-badge.svg\" alt=\"Open In Colab\"/></a>"
            ],
            "metadata": {
                "azdata_cell_guid": "d8aad0db-89cc-4478-aea6-13a22d014765"
            }
        },
        {
            "cell_type": "markdown",
            "source": [
                "# Ungraded Lab: Multiple LSTMs\n",
                "\n",
                "In this lab, you will look at how to build a model with multiple LSTM layers. Since you know the preceding steps already (e.g. downloading datasets, preparing the data, etc.), we won't expound on it anymore so you can just focus on the model building code."
            ],
            "metadata": {
                "id": "rFiCyWQ-NC5D",
                "azdata_cell_guid": "75063ea9-1fd0-4937-acc5-f35c7a1d23c6"
            }
        },
        {
            "cell_type": "markdown",
            "source": [
                "## Download and Prepare the Dataset"
            ],
            "metadata": {
                "id": "xqmDNHeByJqr",
                "azdata_cell_guid": "449b8036-4a2f-45c5-af80-37d3a0aae045"
            }
        },
        {
            "cell_type": "code",
            "source": [
                "import tensorflow_datasets as tfds\n",
                "\n",
                "# Download the subword encoded pretokenized dataset\n",
                "dataset, info = tfds.load('imdb_reviews/subwords8k', with_info=True, as_supervised=True)\n",
                "\n",
                "# Get the tokenizer\n",
                "tokenizer = info.features['text'].encoder"
            ],
            "metadata": {
                "id": "AW-4Vo4TMUHb",
                "azdata_cell_guid": "95fd94a7-bd33-4c73-9c4e-926f5827ecbb",
                "language": "python"
            },
            "outputs": [],
            "execution_count": null
        },
        {
            "cell_type": "markdown",
            "source": [
                "Like the previous lab, we increased the `BATCH_SIZE` here to make the training faster. If you are doing this on your local machine and have a powerful processor, feel free to use the value used in the lecture (i.e. 64) to get the same results as Laurence."
            ],
            "metadata": {
                "id": "fF8bUh_5Ff7y",
                "azdata_cell_guid": "042fe6c2-e154-428e-9874-e94a489e39d1"
            }
        },
        {
            "cell_type": "code",
            "source": [
                "BUFFER_SIZE = 10000\n",
                "BATCH_SIZE = 256\n",
                "\n",
                "# Get the train and test splits\n",
                "train_data, test_data = dataset['train'], dataset['test'], \n",
                "\n",
                "# Shuffle the training data\n",
                "train_dataset = train_data.shuffle(BUFFER_SIZE)\n",
                "\n",
                "# Batch and pad the datasets to the maximum length of the sequences\n",
                "train_dataset = train_dataset.padded_batch(BATCH_SIZE)\n",
                "test_dataset = test_data.padded_batch(BATCH_SIZE)"
            ],
            "metadata": {
                "id": "ffvRUI0_McDS",
                "azdata_cell_guid": "0220a3cd-2a5a-4bea-9818-2b6cf70c388d",
                "language": "python"
            },
            "outputs": [],
            "execution_count": null
        },
        {
            "cell_type": "markdown",
            "source": [
                "## Build and Compile the Model\n",
                "\n",
                "You can build multiple layer LSTM models by simply appending another `LSTM` layer in your `Sequential` model and enabling the `return_sequences` flag to `True`. This is because an `LSTM` layer expects a sequence input so if the previous layer is also an LSTM, then it should output a sequence as well. See the code cell below that demonstrates this flag in action. You'll notice that the output dimension is in 3 dimensions `(batch_size, timesteps, features)` when `return_sequences` is True."
            ],
            "metadata": {
                "id": "xcZEiG9ayNZr",
                "azdata_cell_guid": "347c5317-7cf6-475e-a2dc-b0e1ecaf357c"
            },
            "attachments": {}
        },
        {
            "cell_type": "code",
            "source": [
                "import tensorflow as tf\n",
                "import numpy as np\n",
                "\n",
                "# Hyperparameters\n",
                "batch_size = 1\n",
                "timesteps = 20\n",
                "features = 16\n",
                "lstm_dim = 8\n",
                "\n",
                "print(f'batch_size: {batch_size}')\n",
                "print(f'timesteps (sequence length): {timesteps}')\n",
                "print(f'features (embedding size): {features}')\n",
                "print(f'lstm output units: {lstm_dim}')\n",
                "\n",
                "# Define array input with random values\n",
                "random_input = np.random.rand(batch_size,timesteps,features)\n",
                "print(f'shape of input array: {random_input.shape}')\n",
                "\n",
                "# Define LSTM that returns a single output\n",
                "lstm = tf.keras.layers.LSTM(lstm_dim)\n",
                "result = lstm(random_input)\n",
                "print(f'shape of lstm output(return_sequences=False): {result.shape}')\n",
                "\n",
                "# Define LSTM that returns a sequence\n",
                "lstm_rs = tf.keras.layers.LSTM(lstm_dim, return_sequences=True)\n",
                "result = lstm_rs(random_input)\n",
                "print(f'shape of lstm output(return_sequences=True): {result.shape}')"
            ],
            "metadata": {
                "id": "18MsI2LU75kH",
                "azdata_cell_guid": "76c2bd4c-c942-47f2-9ea7-a9d7141a8fc8",
                "language": "python"
            },
            "outputs": [],
            "execution_count": null
        },
        {
            "cell_type": "markdown",
            "source": [
                "The next cell implements the stacked LSTM architecture."
            ],
            "metadata": {
                "id": "6Was3BX6_50C",
                "azdata_cell_guid": "90801658-c931-41a9-ae81-ca4fb6d1809e"
            }
        },
        {
            "cell_type": "code",
            "source": [
                "import tensorflow as tf\n",
                "\n",
                "# Hyperparameters\n",
                "embedding_dim = 64\n",
                "lstm1_dim = 64\n",
                "lstm2_dim = 32\n",
                "dense_dim = 64\n",
                "\n",
                "# Build the model\n",
                "model = tf.keras.Sequential([\n",
                "    tf.keras.layers.Embedding(tokenizer.vocab_size, embedding_dim),\n",
                "    tf.keras.layers.Bidirectional(tf.keras.layers.LSTM(lstm1_dim, return_sequences=True)),\n",
                "    tf.keras.layers.Bidirectional(tf.keras.layers.LSTM(lstm2_dim)),\n",
                "    tf.keras.layers.Dense(dense_dim, activation='relu'),\n",
                "    tf.keras.layers.Dense(1, activation='sigmoid')\n",
                "])\n",
                "\n",
                "# Print the model summary\n",
                "model.summary()"
            ],
            "metadata": {
                "id": "VPNwU1SVyTjm",
                "azdata_cell_guid": "b2d57102-2b84-482e-8d31-23e1d450eb18",
                "language": "python"
            },
            "outputs": [],
            "execution_count": null
        },
        {
            "cell_type": "code",
            "source": [
                "# Set the training parameters\n",
                "model.compile(loss='binary_crossentropy', optimizer='adam', metrics=['accuracy'])"
            ],
            "metadata": {
                "id": "Uip7QOVzMoMq",
                "azdata_cell_guid": "f51ae9b8-456b-4af3-8c57-11170741ee0c",
                "language": "python"
            },
            "outputs": [],
            "execution_count": null
        },
        {
            "cell_type": "markdown",
            "source": [
                "## Train the Model\n",
                "\n",
                "The additional LSTM layer will lengthen the training time compared to the previous lab. Given the default parameters we set, it will take around 2 minutes per epoch with the Colab GPU enabled. "
            ],
            "metadata": {
                "id": "uh39GlZP79DY",
                "azdata_cell_guid": "eed469cc-9717-4c72-94d2-8b3806f1b68f"
            }
        },
        {
            "cell_type": "code",
            "source": [
                "NUM_EPOCHS = 10\n",
                "\n",
                "# Train the model\n",
                "history = model.fit(train_dataset, epochs=NUM_EPOCHS, validation_data=test_dataset)"
            ],
            "metadata": {
                "id": "7mlgzaRDMtF6",
                "azdata_cell_guid": "baed9491-bf85-475c-92af-96d5a9f2dcc2",
                "language": "python"
            },
            "outputs": [],
            "execution_count": null
        },
        {
            "cell_type": "code",
            "source": [
                "import matplotlib.pyplot as plt\n",
                "\n",
                "# Plot utility\n",
                "def plot_graphs(history, string):\n",
                "  plt.plot(history.history[string])\n",
                "  plt.plot(history.history['val_'+string])\n",
                "  plt.xlabel(\"Epochs\")\n",
                "  plt.ylabel(string)\n",
                "  plt.legend([string, 'val_'+string])\n",
                "  plt.show()\n",
                "\n",
                "# Plot the accuracy and results \n",
                "plot_graphs(history, \"accuracy\")\n",
                "plot_graphs(history, \"loss\")"
            ],
            "metadata": {
                "id": "Mp1Z7P9pYRSK",
                "azdata_cell_guid": "8178e684-f0d1-45f6-997a-b58cbee54110",
                "language": "python"
            },
            "outputs": [],
            "execution_count": null
        },
        {
            "cell_type": "markdown",
            "source": [
                "## Wrap Up\n",
                "\n",
                "This lab showed how you can build deep networks by stacking LSTM layers. In the next labs, you will continue exploring other architectures you can use to implement your sentiment classification model."
            ],
            "metadata": {
                "id": "txQdN63vBlTK",
                "azdata_cell_guid": "59220987-8138-4c72-9694-3fdc93c60fb3"
            }
        }
    ]
}