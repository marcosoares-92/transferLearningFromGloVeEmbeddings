{
 "cells": [
  {
   "cell_type": "markdown",
   "id": "printable-split",
   "metadata": {},
   "source": [
    "\n",
    "# Week 3: Exploring Overfitting in NLP\n",
    "\n",
    "Welcome to this assignment! During this week you saw different ways to handle sequence-like data. You saw how some Keras' layers such as `GRU`, `Conv` and `LSTM` can be used to tackle problems in this space. Now you will put this knowledge into practice by creating a model architecture that does not overfit.\n",
    "\n",
    "For this assignment you will be using a variation of the [Sentiment140 dataset](http://help.sentiment140.com/home), which contains 1.6 million tweets alongside their respective sentiment (0 for negative and 4 for positive).\n",
    "\n",
    "You will also need to create the helper functions very similar to the ones you coded in previous assignments pre-process data and to tokenize sentences. However the objective of the assignment is to find a model architecture that will not overfit.\n",
    "\n",
    "Let's get started!"
   ]
  },
  {
   "cell_type": "code",
   "execution_count": 3,
   "id": "greater-synthesis",
   "metadata": {
    "id": "hmA6EzkQJ5jt"
   },
   "outputs": [],
   "source": [
    "import csv\n",
    "import random\n",
    "import pickle\n",
    "import numpy as np\n",
    "import tensorflow as tf\n",
    "from tensorflow.keras.preprocessing.text import Tokenizer\n",
    "from tensorflow.keras.preprocessing.sequence import pad_sequences\n",
    "import matplotlib.pyplot as plt\n",
    "from scipy.stats import linregress"
   ]
  },
  {
   "cell_type": "markdown",
   "id": "nutritional-yield",
   "metadata": {},
   "source": [
    "## Defining some useful global variables\n",
    "\n",
    "Next you will define some global variables that will be used throughout the assignment.\n",
    "\n",
    "- `EMBEDDING_DIM`: Dimension of the dense embedding, will be used in the embedding layer of the model. Defaults to 100.\n",
    "\n",
    "\n",
    "- `MAXLEN`: Maximum length of all sequences. Defaults to 16.\n",
    "\n",
    "\n",
    "- `TRUNCATING`: Truncating strategy (truncate either before or after each sequence.). Defaults to 'post'.\n",
    "\n",
    "\n",
    "- `PADDING`: Padding strategy (pad either before or after each sequence.). Defaults to 'post'.\n",
    "\n",
    "\n",
    "- `OOV_TOKEN`: Token to replace out-of-vocabulary words during text_to_sequence calls. Defaults to \\\"\\\\<OOV>\\\".\n",
    "    \n",
    "    \n",
    "- `MAX_EXAMPLES`: Max number of examples to use. Defaults to 160000 (10% of the original number of examples)\n",
    "    \n",
    "    \n",
    "- `TRAINING_SPLIT`: Proportion of data used for training. Defaults to 0.9\n",
    "    \n",
    "    \n",
    "**For now leave them unchanged but after submitting your assignment for grading you are encouraged to come back here and play with these parameters to see the impact they have in the classification process.**"
   ]
  },
  {
   "cell_type": "code",
   "execution_count": 4,
   "id": "occasional-penalty",
   "metadata": {},
   "outputs": [],
   "source": [
    "EMBEDDING_DIM = 100\n",
    "# Dimension of the embedding vectors used for representing the words. Since we are\n",
    "# using glove100, where the vectors have 100 dimensions for representing the words (words\n",
    "# with semantic similarities have the vector distances minimized), the dimension is 100\n",
    "# (i.e., each word is represented by a vector of 100 floats)\n",
    "MAXLEN = 16\n",
    "TRUNCATING = 'post'\n",
    "PADDING = 'post'\n",
    "OOV_TOKEN = \"<OOV>\"\n",
    "MAX_EXAMPLES = 160000\n",
    "TRAINING_SPLIT = 0.9"
   ]
  },
  {
   "cell_type": "markdown",
   "id": "applied-rubber",
   "metadata": {},
   "source": [
    "## Explore the dataset\n",
    "\n",
    "The dataset is provided in a csv file. \n",
    "\n",
    "Each row of this file contains the following values separated by commas:\n",
    "\n",
    "- target: the polarity of the tweet (0 = negative, 4 = positive)\n",
    "\n",
    "- ids: The id of the tweet\n",
    "\n",
    "- date: the date of the tweet\n",
    "\n",
    "- flag: The query. If there is no query, then this value is NO_QUERY.\n",
    "\n",
    "- user: the user that tweeted\n",
    "\n",
    "- text: the text of the tweet\n",
    "\n",
    "\n",
    "Take a look at the first two examples:"
   ]
  },
  {
   "cell_type": "code",
   "execution_count": 63,
   "id": "critical-emission",
   "metadata": {},
   "outputs": [
    {
     "name": "stdout",
     "output_type": "stream",
     "text": [
      "First data point looks like this:\n",
      "\n",
      "\"0\",\"1467810369\",\"Mon Apr 06 22:19:45 PDT 2009\",\"NO_QUERY\",\"_TheSpecialOne_\",\"@switchfoot http://twitpic.com/2y1zl - Awww, that's a bummer.  You shoulda got David Carr of Third Day to do it. ;D\"\n",
      "\n",
      "Second data point looks like this:\n",
      "\n",
      "\"0\",\"1467810672\",\"Mon Apr 06 22:19:49 PDT 2009\",\"NO_QUERY\",\"scotthamilton\",\"is upset that he can't update his Facebook by texting it... and might cry as a result  School today also. Blah!\"\n",
      "\n"
     ]
    }
   ],
   "source": [
    "SENTIMENT_CSV = \"./data/training_cleaned.csv\"\n",
    "\n",
    "with open(SENTIMENT_CSV, 'r') as csvfile:\n",
    "    print(f\"First data point looks like this:\\n\\n{csvfile.readline()}\")\n",
    "    print(f\"Second data point looks like this:\\n\\n{csvfile.readline()}\")"
   ]
  },
  {
   "cell_type": "markdown",
   "id": "incoming-success",
   "metadata": {},
   "source": [
    "**Notice that this file does not have a header so you won't need to skip the first row when parsing the file.**\n",
    "\n",
    "For the task at hand you will only need the information of the target and the text, which are the first and last element of each row. "
   ]
  },
  {
   "cell_type": "markdown",
   "id": "sealed-sterling",
   "metadata": {},
   "source": [
    "## Parsing the raw data\n",
    "\n",
    "Now you need to read the data from the csv file. To do so, complete the `parse_data_from_file` function.\n",
    "\n",
    "A couple of things to note:\n",
    "\n",
    "- You should NOT omit the first line as the file does not contain headers.\n",
    "- There is no need to save the data points as numpy arrays, regular lists is fine.\n",
    "- To read from csv files use `csv.reader` by passing the appropriate arguments.\n",
    "- `csv.reader` returns an iterable that returns each row in every iteration. So the label can be accessed via `row[0]` and the text via `row[5]`.\n",
    "- The labels are originally encoded as strings ('0' representing negative and '4' representing positive). **You need to change this so that the labels are integers and 0 is used for representing negative, while 1 should represent positive.**\n"
   ]
  },
  {
   "cell_type": "code",
   "execution_count": 64,
   "id": "imperial-scratch",
   "metadata": {},
   "outputs": [],
   "source": [
    "def parse_data_from_file(filename):\n",
    "    \n",
    "    sentences = []\n",
    "    labels = []\n",
    "    \n",
    "    with open(filename, 'r') as csvfile:\n",
    "        ### START CODE HERE\n",
    "        reader = csv.reader(csvfile, delimiter = ',')\n",
    "        # The command 'next(reader)' picks the next row\n",
    "        # from the file. Since we just started reading, we are in row 0, so\n",
    "        # using this command here, before any other action would simply jump to\n",
    "        # row 1. Then, if we wanted to skip a header row, we would use the command\n",
    "        # next(reader) before the for loop, so that reading would start from row 1\n",
    "        # (2nd row). This was the strategy used on week2 assingnment from this course.\n",
    "        \n",
    "        for row in reader:\n",
    "            # Append the label stored as row[0] (first column)\n",
    "            # Append as an integer, avoiding it to be read as string\n",
    "            labels.append(int(row[0]))\n",
    "            # append the sentence, stored as row[5] (6th column)\n",
    "            # Append as a string\n",
    "            sentences.append(str(row[5]))\n",
    "        \n",
    "        ### END CODE HERE\n",
    "\n",
    "    return sentences, labels"
   ]
  },
  {
   "cell_type": "code",
   "execution_count": 65,
   "id": "banned-medicare",
   "metadata": {},
   "outputs": [
    {
     "name": "stdout",
     "output_type": "stream",
     "text": [
      "dataset contains 1600000 examples\n",
      "\n",
      "Text of second example should look like this:\n",
      "is upset that he can't update his Facebook by texting it... and might cry as a result  School today also. Blah!\n",
      "\n",
      "Text of fourth example should look like this:\n",
      "my whole body feels itchy and like its on fire \n",
      "\n",
      "Labels of last 5 examples should look like this:\n",
      "[4, 4, 4, 4, 4]\n"
     ]
    }
   ],
   "source": [
    "# Test your function\n",
    "sentences, labels = parse_data_from_file(SENTIMENT_CSV)\n",
    "\n",
    "print(f\"dataset contains {len(sentences)} examples\\n\")\n",
    "\n",
    "print(f\"Text of second example should look like this:\\n{sentences[1]}\\n\")\n",
    "print(f\"Text of fourth example should look like this:\\n{sentences[3]}\")\n",
    "\n",
    "print(f\"\\nLabels of last 5 examples should look like this:\\n{labels[-5:]}\")"
   ]
  },
  {
   "cell_type": "markdown",
   "id": "confidential-delay",
   "metadata": {},
   "source": [
    "***Expected Output:***\n",
    "\n",
    "```\n",
    "dataset contains 1600000 examples\n",
    "\n",
    "Text of second example should look like this:\n",
    "is upset that he can't update his Facebook by texting it... and might cry as a result  School today also. Blah!\n",
    "\n",
    "Text of fourth example should look like this:\n",
    "my whole body feels itchy and like its on fire \n",
    "\n",
    "Labels of last 5 examples should look like this:\n",
    "[1, 1, 1, 1, 1]\n",
    "\n",
    "```"
   ]
  },
  {
   "cell_type": "markdown",
   "id": "residential-tonight",
   "metadata": {},
   "source": [
    "You might have noticed that this dataset contains a lot of examples. In order to keep a low execution time of this assignment you will be using only 10% of the original data. The next cell does this while also randomnizing the datapoints that will be used:"
   ]
  },
  {
   "cell_type": "code",
   "execution_count": 66,
   "id": "framed-holmes",
   "metadata": {},
   "outputs": [
    {
     "name": "stdout",
     "output_type": "stream",
     "text": [
      "There are 160000 sentences and 160000 labels after random sampling\n",
      "\n"
     ]
    }
   ],
   "source": [
    "# Bundle the two lists into a single one\n",
    "sentences_and_labels = list(zip(sentences, labels))\n",
    "\n",
    "# Perform random sampling\n",
    "random.seed(42)\n",
    "sentences_and_labels = random.sample(sentences_and_labels, MAX_EXAMPLES)\n",
    "\n",
    "# Unpack back into separate lists\n",
    "sentences, labels = zip(*sentences_and_labels)\n",
    "\n",
    "print(f\"There are {len(sentences)} sentences and {len(labels)} labels after random sampling\\n\")"
   ]
  },
  {
   "cell_type": "markdown",
   "id": "guilty-denial",
   "metadata": {},
   "source": [
    "***Expected Output:***\n",
    "\n",
    "```\n",
    "There are 160000 sentences and 160000 labels after random sampling\n",
    "\n",
    "```"
   ]
  },
  {
   "cell_type": "markdown",
   "id": "contained-bridge",
   "metadata": {},
   "source": [
    "## Training - Validation Split\n",
    "\n",
    "Now you will code the `train_val_split`, which given the list of sentences, the list of labels and the proportion of data for the training set, should return the training and validation sentences and labels:"
   ]
  },
  {
   "cell_type": "code",
   "execution_count": 67,
   "id": "elegant-medicare",
   "metadata": {},
   "outputs": [],
   "source": [
    "def train_val_split(sentences, labels, training_split):\n",
    "    \n",
    "    import numpy as np\n",
    "    import random\n",
    "\n",
    "    \n",
    "    # Splits the dataset into training and validation sets\n",
    "    \n",
    "    # Args:\n",
    "    #    sentences (list of string): lower-cased sentences without stopwords\n",
    "    #    labels (list of string): list of labels\n",
    "    #    training split (float): proportion of the dataset to convert to include in the train set\n",
    "    \n",
    "    # Returns:\n",
    "    #    train_sentences, validation_sentences, train_labels, validation_labels - lists containing the data splits\n",
    "    \n",
    "    \n",
    "    ### START CODE HERE\n",
    "    \n",
    "    # training_split = fraction of data destined to training. Example:\n",
    "    # training_split = 0.8 uses 0.8 = 80% of data for training; and 0.2 = 20%\n",
    "    # for testing the model\n",
    "\n",
    "    # sentences = list of sentences that will be analyzed\n",
    "    total_of_sentences = len(sentences)\n",
    "\n",
    "    # Compute the number of sentences that will be used for training (should be an integer)\n",
    "    train_size = int(np.rint(training_split * total_of_sentences))\n",
    "    \n",
    "    # We must use the int function to guarantee that the train_size will store an\n",
    "    # integer number of sentences (we cannot have a fraction of a sentence).\n",
    "    # The int function guarantees that the variable will be stored as an integer.\n",
    "    # The numpy.rint(a) function rounds elements of the array to the nearest integer.\n",
    "    # https://numpy.org/doc/stable/reference/generated/numpy.rint.html\n",
    "    # For values exactly halfway between rounded decimal values, \n",
    "    # NumPy rounds to the nearest even value. \n",
    "    # Thus 1.5 and 2.5 round to 2.0; -0.5 and 0.5 round to 0.0; etc.\n",
    "\n",
    "    #Get total of sentences used for testing:\n",
    "    test_size = total_of_sentences - train_size\n",
    "\n",
    "    # Let's create a list of indices, which goes from zero to the index of the\n",
    "    # last sentence, total_of_sentences - 1:\n",
    "    list_of_indices = []\n",
    "    \n",
    "    for i in range(total_of_sentences):\n",
    "        # Loops from i = 0 to i = total_of_sentences - 1\n",
    "        # append i to the list:\n",
    "        list_of_indices.append(i)\n",
    "\n",
    "    # Function random.sample(input_list, number_of_samples): this function creates a list containing\n",
    "    # a total of elements equals to the parameter \"number_of_samples\", which must be an integer.\n",
    "    # This list is obtained by ramdomly selecting a total of \"number_of_samples\" elements from the\n",
    "    # list \"input_list\" passed as parameter.\n",
    "\n",
    "    # Now we can create a list of random indices correspondent to the sentences (and their labels)\n",
    "    # selected for training.\n",
    "    # For that, random sample a total of 'train_size' elements from list_of_indices\n",
    "    training_indices = random.sample(list_of_indices, train_size)\n",
    "\n",
    "    # Split the sentences and labels into train/validation splits.\n",
    "    # Firstly, start the new lists for training and validation:\n",
    "    train_sentences = []\n",
    "    train_labels = []\n",
    "\n",
    "    validation_sentences = []\n",
    "    validation_labels = []\n",
    "\n",
    "    # Loop through list_of_indices.\n",
    "    # If the index is in the list training_indices of the indexes selected for\n",
    "    # training, append the sentence to train_sentences; and the correspondent\n",
    "    # label to train_labels. If not, append them to validation_sentences and\n",
    "    # validation_labels.\n",
    "    # Notice that we created the indices as unique integers starting from zero,\n",
    "    # so there is no equal index.\n",
    "\n",
    "    for i in list_of_indices:\n",
    "        # Loops through each element i in the list of indices.\n",
    "\n",
    "        # Check if i is in the list training_indices\n",
    "        if (i in training_indices):\n",
    "            # append the sentence and its label to the training list:\n",
    "            train_sentences.append(sentences[i])\n",
    "            train_labels.append(labels[i])\n",
    "      \n",
    "        else:\n",
    "            # i is not an index selected for training.\n",
    "            # append the elements to the validation lists:\n",
    "            validation_sentences.append(sentences[i])\n",
    "            validation_labels.append(labels[i])\n",
    "\n",
    "    ### END CODE HERE\n",
    "    \n",
    "    return train_sentences, validation_sentences, train_labels, validation_labels"
   ]
  },
  {
   "cell_type": "code",
   "execution_count": 68,
   "id": "green-finding",
   "metadata": {},
   "outputs": [
    {
     "name": "stdout",
     "output_type": "stream",
     "text": [
      "There are 144000 sentences for training.\n",
      "\n",
      "There are 144000 labels for training.\n",
      "\n",
      "There are 16000 sentences for validation.\n",
      "\n",
      "There are 16000 labels for validation.\n"
     ]
    }
   ],
   "source": [
    "# Test your function\n",
    "train_sentences, val_sentences, train_labels, val_labels = train_val_split(sentences, labels, TRAINING_SPLIT)\n",
    "\n",
    "print(f\"There are {len(train_sentences)} sentences for training.\\n\")\n",
    "print(f\"There are {len(train_labels)} labels for training.\\n\")\n",
    "print(f\"There are {len(val_sentences)} sentences for validation.\\n\")\n",
    "print(f\"There are {len(val_labels)} labels for validation.\")"
   ]
  },
  {
   "cell_type": "markdown",
   "id": "imperial-bangkok",
   "metadata": {},
   "source": [
    "***Expected Output:***\n",
    "\n",
    "```\n",
    "There are 144000 sentences for training.\n",
    "\n",
    "There are 144000 labels for training.\n",
    "\n",
    "There are 16000 sentences for validation.\n",
    "\n",
    "There are 16000 labels for validation.\n",
    "\n",
    "```"
   ]
  },
  {
   "cell_type": "markdown",
   "id": "wired-fifteen",
   "metadata": {},
   "source": [
    "## Tokenization - Sequences, truncating and padding\n",
    "\n",
    "Now that you have sets for training and validation it is time for you to begin the tokenization process.\n",
    "\n",
    "Begin by completing the `fit_tokenizer` function below. This function should return a [Tokenizer](https://www.tensorflow.org/api_docs/python/tf/keras/preprocessing/text/Tokenizer) that has been fitted to the training sentences."
   ]
  },
  {
   "cell_type": "code",
   "execution_count": 69,
   "id": "atmospheric-shakespeare",
   "metadata": {},
   "outputs": [],
   "source": [
    "def fit_tokenizer(train_sentences, oov_token):\n",
    "    \n",
    "    \n",
    "   # Instantiates the Tokenizer class on the training sentences\n",
    "    \n",
    "   # Args:\n",
    "   #     train_sentences (list of string): lower-cased sentences without stopwords to be used for training\n",
    "   #     oov_token (string) - symbol for the out-of-vocabulary token\n",
    "    \n",
    "   # Returns:\n",
    "   #     tokenizer (object): an instance of the Tokenizer class containing the word-index dictionary\n",
    "   \n",
    "    ### START CODE HERE\n",
    "    \n",
    "    # Instantiate the Tokenizer class, passing in the correct values for num_words and oov_token\n",
    "    # Since no number of words is specified, we can omit this hyperparameter. If we wished to\n",
    "    # limit the maximum number of words, we should declare:\n",
    "    # tokenizer = Tokenizer(num_words = num_words, oov_token = oov_token)\n",
    "    # instead of the following line.\n",
    "    # By not specifying this parameter, the number of words (vocabulary size) will be:\n",
    "    # VOCAB_SIZE = len(word_index), where word_index = tokenizer.word_index\n",
    "    # i.e., the length of the word index dictionary itself.\n",
    "    tokenizer = Tokenizer(oov_token = oov_token)\n",
    "    # oov: out of vocabulary - it should be a special token different from any possible word\n",
    "    # to differentiate the words that are present, but were not seem when creating the word index.\n",
    "    # If there is no token for words out of the vocabulary, the words would be simply removed when\n",
    "    # encoding the sequence. Now, instead of removing those words, we encode them as the special\n",
    "    # token oov_token, such as '<OOV>'.\n",
    "    \n",
    "    # Fit the tokenizer to the training sentences\n",
    "    tokenizer.fit_on_texts(train_sentences)\n",
    "    \n",
    "    \n",
    "    ### END CODE HERE\n",
    "    \n",
    "    return tokenizer"
   ]
  },
  {
   "cell_type": "code",
   "execution_count": 70,
   "id": "included-entertainment",
   "metadata": {},
   "outputs": [
    {
     "name": "stdout",
     "output_type": "stream",
     "text": [
      "Vocabulary contains 128133 words\n",
      "\n",
      "<OOV> token included in vocabulary\n",
      "\n",
      "index of word 'i' should be 2\n"
     ]
    }
   ],
   "source": [
    "# Test your function\n",
    "tokenizer = fit_tokenizer(train_sentences, OOV_TOKEN)\n",
    "\n",
    "word_index = tokenizer.word_index\n",
    "VOCAB_SIZE = len(word_index)\n",
    "\n",
    "print(f\"Vocabulary contains {VOCAB_SIZE} words\\n\")\n",
    "print(\"<OOV> token included in vocabulary\" if \"<OOV>\" in word_index else \"<OOV> token NOT included in vocabulary\")\n",
    "print(f\"\\nindex of word 'i' should be {word_index['i']}\")"
   ]
  },
  {
   "cell_type": "markdown",
   "id": "covered-williams",
   "metadata": {},
   "source": [
    "***Expected Output:***\n",
    "\n",
    "```\n",
    "Vocabulary contains 128293 words\n",
    "\n",
    "<OOV> token included in vocabulary\n",
    "\n",
    "index of word 'i' should be 2\n",
    "\n",
    "```"
   ]
  },
  {
   "cell_type": "code",
   "execution_count": 71,
   "id": "attractive-cooper",
   "metadata": {},
   "outputs": [],
   "source": [
    "def seq_pad_and_trunc(sentences, tokenizer, padding, truncating, maxlen):\n",
    "\n",
    "   # Generates an array of token sequences and pads them to the same length\n",
    "    \n",
    "   # Args:\n",
    "   #     sentences (list of string): list of sentences to tokenize and pad\n",
    "   #     tokenizer (object): Tokenizer instance containing the word-index dictionary\n",
    "   #     padding (string): type of padding to use\n",
    "   #     truncating (string): type of truncating to use\n",
    "   #     maxlen (int): maximum length of the token sequence\n",
    "    \n",
    "   # Returns:\n",
    "   #     pad_trunc_sequences (array of int): tokenized sentences padded to the same length\n",
    "       \n",
    "    ### START CODE HERE\n",
    "       \n",
    "    # Convert sentences to sequences\n",
    "    sequences = tokenizer.texts_to_sequences(sentences)\n",
    "    \n",
    "    # Pad the sequences using the correct padding and maxlen\n",
    "    pad_trunc_sequences = pad_sequences(sequences, padding = padding, truncating = truncating, maxlen = maxlen)\n",
    "    # Keras requires sequences of the same lenght: same number of variables (columns); images of\n",
    "    # constant dimensions; or text sequences with same length\n",
    "    # maxlen: set the maximum length allowed for the sequences. Longer sequences will be truncated\n",
    "    # after reaching the number of tokens specified as maxlen. If maxlen = 5, the sequences are\n",
    "    # allowed to have only 5 tokens (5 words, basically).\n",
    "\n",
    "    # The default for padding and truncating is in the beginning of the sentence: then, zeros are added to\n",
    "    # the beginning of the smaller sequences (their left, before the first words). The number of added zeros\n",
    "    # is the amount required for them to reach the maximum possible length. In turns, sequences longer than\n",
    "    # the maximum possible length are cropped (truncated) in their left, i.e., their first words are removed\n",
    "    # for them to reach the maximum allowed length.\n",
    "    # By specifying padding = 'post', we tell keras that the zeros should be added at the end (far-right) \n",
    "    # of the sequences, so only what comes after the sentence is 'modified' \n",
    "    # (filled with zeros to reach the maximum length).\n",
    "\n",
    "    # In its turn, when specifying truncating = 'post', we tell Keras to remove only the last (far-\n",
    "    # right) words, so the beginning of the sentences longer than max length are not removed (we lost\n",
    "    # the final part of the text, instead of losing its beginning).\n",
    "    \n",
    "    ### END CODE HERE\n",
    "    \n",
    "    return pad_trunc_sequences"
   ]
  },
  {
   "cell_type": "code",
   "execution_count": 72,
   "id": "extra-mention",
   "metadata": {},
   "outputs": [
    {
     "name": "stdout",
     "output_type": "stream",
     "text": [
      "Padded and truncated training sequences have shape: (144000, 16)\n",
      "\n",
      "Padded and truncated validation sequences have shape: (16000, 16)\n"
     ]
    }
   ],
   "source": [
    "# Test your function\n",
    "train_pad_trunc_seq = seq_pad_and_trunc(train_sentences, tokenizer, PADDING, TRUNCATING, MAXLEN)\n",
    "val_pad_trunc_seq = seq_pad_and_trunc(val_sentences, tokenizer, PADDING, TRUNCATING, MAXLEN)\n",
    "\n",
    "print(f\"Padded and truncated training sequences have shape: {train_pad_trunc_seq.shape}\\n\")\n",
    "print(f\"Padded and truncated validation sequences have shape: {val_pad_trunc_seq.shape}\")"
   ]
  },
  {
   "cell_type": "markdown",
   "id": "posted-stockholm",
   "metadata": {},
   "source": [
    "***Expected Output:***\n",
    "\n",
    "```\n",
    "Padded and truncated training sequences have shape: (144000, 16)\n",
    "\n",
    "Padded and truncated validation sequences have shape: (16000, 16)\n",
    "\n",
    "```"
   ]
  },
  {
   "cell_type": "markdown",
   "id": "least-rough",
   "metadata": {},
   "source": [
    "Remember that the `pad_sequences` function returns numpy arrays, so your training and validation sequences are already in this format.\n",
    "\n",
    "However the labels are still Python lists. Before going forward you should convert them numpy arrays as well. You can do this by running the following cell:"
   ]
  },
  {
   "cell_type": "code",
   "execution_count": 73,
   "id": "studied-minneapolis",
   "metadata": {},
   "outputs": [],
   "source": [
    "train_labels = np.array(train_labels)\n",
    "val_labels = np.array(val_labels)"
   ]
  },
  {
   "cell_type": "markdown",
   "id": "corresponding-choir",
   "metadata": {},
   "source": [
    "# Using pre-defined Embeddings\n",
    "\n",
    "This time you will not be learning embeddings from your data but you will be using pre-trained word vectors.\n",
    "\n",
    "In particular you will be using the 100 dimension version of [GloVe](https://nlp.stanford.edu/projects/glove/) from Stanford."
   ]
  },
  {
   "cell_type": "code",
   "execution_count": 74,
   "id": "continental-pittsburgh",
   "metadata": {},
   "outputs": [],
   "source": [
    "# Define path to file containing the embeddings\n",
    "# This time you will not be learning embeddings from your data but you will be \n",
    "# using pre-trained word vectors, i.e., vectors obtained for modelling labelled sentences,\n",
    "# for minimizing the distance between vectors representing words with similar meaning (semantic\n",
    "# similarity).\n",
    "# In particular you will be using the 100 dimension version of GloVe from Stanford.\n",
    "# This is a transfer learning approach, like when using pre-trained convolution layers.\n",
    "# The difference is in the layer: we are using a pre-trained embedding layer, obtained on training\n",
    "# very large validated datasets of sentences. In CNNs for image processing, we used convolutional\n",
    "# layers obtained on training on image sets for finding efficient filters that highlight image\n",
    "# features (here, for training vectors that efficiently represent the words).\n",
    "GLOVE_FILE = './data/glove.6B.100d.txt'\n",
    "\n",
    "# Initialize an empty embeddings index dictionary\n",
    "GLOVE_EMBEDDINGS = {}\n",
    "\n",
    "# Read file and fill GLOVE_EMBEDDINGS with its contents\n",
    "with open(GLOVE_FILE) as f:\n",
    "    for line in f:\n",
    "        values = line.split()\n",
    "        word = values[0]\n",
    "        coefs = np.asarray(values[1:], dtype='float32')\n",
    "        GLOVE_EMBEDDINGS[word] = coefs"
   ]
  },
  {
   "cell_type": "markdown",
   "id": "varied-furniture",
   "metadata": {},
   "source": [
    "Now you have access to GloVe's pre-trained word vectors. Isn't that cool?\n",
    "\n",
    "Let's take a look at the vector for the word **dog**:"
   ]
  },
  {
   "cell_type": "code",
   "execution_count": 75,
   "id": "awful-mouse",
   "metadata": {},
   "outputs": [
    {
     "name": "stdout",
     "output_type": "stream",
     "text": [
      "Vector representation of word dog looks like this:\n",
      "\n",
      "[ 0.30817    0.30938    0.52803   -0.92543   -0.73671    0.63475\n",
      "  0.44197    0.10262   -0.09142   -0.56607   -0.5327     0.2013\n",
      "  0.7704    -0.13983    0.13727    1.1128     0.89301   -0.17869\n",
      " -0.0019722  0.57289    0.59479    0.50428   -0.28991   -1.3491\n",
      "  0.42756    1.2748    -1.1613    -0.41084    0.042804   0.54866\n",
      "  0.18897    0.3759     0.58035    0.66975    0.81156    0.93864\n",
      " -0.51005   -0.070079   0.82819   -0.35346    0.21086   -0.24412\n",
      " -0.16554   -0.78358   -0.48482    0.38968   -0.86356   -0.016391\n",
      "  0.31984   -0.49246   -0.069363   0.018869  -0.098286   1.3126\n",
      " -0.12116   -1.2399    -0.091429   0.35294    0.64645    0.089642\n",
      "  0.70294    1.1244     0.38639    0.52084    0.98787    0.79952\n",
      " -0.34625    0.14095    0.80167    0.20987   -0.86007   -0.15308\n",
      "  0.074523   0.40816    0.019208   0.51587   -0.34428   -0.24525\n",
      " -0.77984    0.27425    0.22418    0.20164    0.017431  -0.014697\n",
      " -1.0235    -0.39695   -0.0056188  0.30569    0.31748    0.021404\n",
      "  0.11837   -0.11319    0.42456    0.53405   -0.16717   -0.27185\n",
      " -0.6255     0.12883    0.62529   -0.52086  ]\n"
     ]
    }
   ],
   "source": [
    "test_word = 'dog'\n",
    "\n",
    "test_vector = GLOVE_EMBEDDINGS[test_word]\n",
    "\n",
    "print(f\"Vector representation of word {test_word} looks like this:\\n\\n{test_vector}\")"
   ]
  },
  {
   "cell_type": "markdown",
   "id": "persistent-tolerance",
   "metadata": {},
   "source": [
    "Feel free to change the `test_word` to see the vector representation of any word you can think of.\n",
    "\n",
    "Also, notice that the dimension of each vector is 100. You can easily double check this by running the following cell:"
   ]
  },
  {
   "cell_type": "code",
   "execution_count": 76,
   "id": "published-surgery",
   "metadata": {},
   "outputs": [
    {
     "name": "stdout",
     "output_type": "stream",
     "text": [
      "Each word vector has shape: (100,)\n"
     ]
    }
   ],
   "source": [
    "print(f\"Each word vector has shape: {test_vector.shape}\")"
   ]
  },
  {
   "cell_type": "markdown",
   "id": "handy-chuck",
   "metadata": {},
   "source": [
    "## Represent the words in your vocabulary using the embeddings\n",
    "\n",
    "Save the vector representation of each word in the vocabulary in a numpy array.\n",
    "\n",
    "A couple of things to notice:\n",
    "- If a word in your vocabulary is not present in `GLOVE_EMBEDDINGS` the representation for that word is left as a column of zeros.\n",
    "- `word_index` starts counting at 1, because of this you will need to add an extra column at the left-most side of the `EMBEDDINGS_MATRIX` array. This is the reason why you add 1 to `VOCAB_SIZE` in the cell below:"
   ]
  },
  {
   "cell_type": "code",
   "execution_count": 77,
   "id": "crazy-process",
   "metadata": {
    "colab": {
     "base_uri": "https://localhost:8080/"
    },
    "id": "C1zdgJkusRh0",
    "outputId": "538df576-bbfc-4590-c3a3-0559dab5f176"
   },
   "outputs": [],
   "source": [
    "# Initialize an empty numpy array with the appropriate size\n",
    "EMBEDDINGS_MATRIX = np.zeros((VOCAB_SIZE+1, EMBEDDING_DIM))\n",
    "\n",
    "# Iterate all of the words in the vocabulary and if the vector representation for \n",
    "# each word exists within GloVe's representations, save it in the EMBEDDINGS_MATRIX array\n",
    "for word, i in word_index.items():\n",
    "    embedding_vector = GLOVE_EMBEDDINGS.get(word)\n",
    "    if embedding_vector is not None:\n",
    "        EMBEDDINGS_MATRIX[i] = embedding_vector"
   ]
  },
  {
   "cell_type": "markdown",
   "id": "otherwise-chester",
   "metadata": {},
   "source": [
    "Now you have the pre-trained embeddings ready to use!"
   ]
  },
  {
   "cell_type": "markdown",
   "id": "missing-solution",
   "metadata": {},
   "source": [
    "## Define a model that does not overfit\n",
    "\n",
    "Now you need to define a model that will handle the problem at hand while not overfitting.\n",
    "\n",
    "A couple of things to note / hints:\n",
    "\n",
    "- The first layer is provided so you can see how the Embedding layer is configured when using pre-trained embeddings\n",
    "\n",
    "\n",
    "- You can try different combinations of layers covered in previous ungraded labs such as:\n",
    "    - `Conv1D`\n",
    "    - `Dropout`\n",
    "    - `GlobalMaxPooling1D`    \n",
    "    - `MaxPooling1D`    \n",
    "    - `LSTM`    \n",
    "    - `Bidirectional(LSTM)`\n",
    "\n",
    "\n",
    "- The last two layers should be `Dense` layers.\n",
    "\n",
    "\n",
    "- There multiple ways of solving this problem. So try an architecture that you think will not overfit.\n",
    "\n",
    "\n",
    "- Try simpler architectures first to avoid long training times. Architectures that are able to solve this problem usually have around 3-4 layers (excluding the last two `Dense` ones)\n",
    "\n",
    "\n",
    "- Include at least one `Dropout` layer to mitigate overfitting."
   ]
  },
  {
   "cell_type": "code",
   "execution_count": 94,
   "id": "representative-taylor",
   "metadata": {},
   "outputs": [],
   "source": [
    "# GRADED FUNCTION: create_model\n",
    "def create_model(vocab_size, embedding_dim, maxlen, embeddings_matrix):\n",
    "    \"\"\"\n",
    "    Creates a binary sentiment classifier model\n",
    "    \n",
    "    Args:\n",
    "        vocab_size (int): size of the vocabulary for the Embedding layer input\n",
    "        embedding_dim (int): dimensionality of the Embedding layer output\n",
    "        maxlen (int): length of the input sequences\n",
    "        embeddings_matrix (array): predefined weights of the embeddings\n",
    "    \n",
    "    Returns:\n",
    "        model (tf.keras Model): the sentiment classifier model\n",
    "    \"\"\"\n",
    "    ### START CODE HERE\n",
    "    \n",
    "    # dropout: If I put a dropout parameter of 0.2, I will lose 20% of the nodes. The syntax is:\n",
    "    # tf.keras.layers.Dropout(0.2),\n",
    "    # If a Dropout rate being is set too high, the network will lose specialization to \n",
    "    # the effect that it would be inefficient or ineffective at learning, driving accuracy down.\n",
    "    # dropouts help avoid overfitting because neighbor neurons can have similar weights, \n",
    "    # and thus can skew the final training \n",
    "    \n",
    "    DROPOUT_RATE = 0.1 # 0.2 represents 20%\n",
    "    LSTM1_DIM = 64 # number of units (neurons)\n",
    "    LSTM2_DIM = 32 # number of units (neurons)\n",
    "    DENSE_DIM = 32 # number of units (neurons)\n",
    "    FILTERS = 128\n",
    "    KERNEL_SIZE = 5 # Reduces KERNEL_SIZE - 1 = 5-1 = 4 elements on the sequence,\n",
    "    # half (2) in the beginning, and half at the end of the sequence.\n",
    "    \n",
    "    model = tf.keras.Sequential([ \n",
    "        # This is how you need to set the Embedding layer when using pre-trained embeddings\n",
    "        tf.keras.layers.Embedding(vocab_size + 1, embedding_dim, input_length = maxlen, weights = [embeddings_matrix], trainable = False), \n",
    "        # trainable = False not to retrain the embeddings (i.e., use the embeddings as they are provided)\n",
    "        # tf.keras.layers.Conv1D(FILTERS, KERNEL_SIZE, activation='relu'),\n",
    "        # tf.keras.layers.GlobalMaxPooling1D(),\n",
    "        tf.keras.layers.Bidirectional(tf.keras.layers.LSTM(LSTM1_DIM, return_sequences = True)),\n",
    "        tf.keras.layers.Bidirectional(tf.keras.layers.LSTM(LSTM2_DIM)),\n",
    "        #tf.keras.layers.Dropout(DROPOUT_RATE),\n",
    "        tf.keras.layers.Dense(DENSE_DIM, activation='relu'),\n",
    "        tf.keras.layers.Dense(1, activation='sigmoid')\n",
    "        # binary classification, Dense(1) activated through sigmoid is the logistic regression\n",
    "    ])\n",
    "    \n",
    "    model.compile(loss = 'binary_crossentropy',\n",
    "                  optimizer = 'adam',\n",
    "                  metrics = ['accuracy']) \n",
    "\n",
    "    ### END CODE HERE\n",
    "    \n",
    "\n",
    "    return model"
   ]
  },
  {
   "cell_type": "code",
   "execution_count": 95,
   "id": "explicit-tokyo",
   "metadata": {},
   "outputs": [
    {
     "name": "stdout",
     "output_type": "stream",
     "text": [
      "Epoch 1/20\n",
      "4500/4500 [==============================] - 112s 24ms/step - loss: -11411.4033 - accuracy: 1.2500e-04 - val_loss: -32000.9922 - val_accuracy: 0.0000e+00\n",
      "Epoch 2/20\n",
      "4500/4500 [==============================] - 106s 24ms/step - loss: -65425.6445 - accuracy: 0.0000e+00 - val_loss: -106600.9062 - val_accuracy: 0.0000e+00\n",
      "Epoch 3/20\n",
      "4500/4500 [==============================] - 106s 23ms/step - loss: -156989.0156 - accuracy: 0.0000e+00 - val_loss: -217055.0781 - val_accuracy: 0.0000e+00\n",
      "Epoch 4/20\n",
      "4500/4500 [==============================] - 106s 24ms/step - loss: -262744.7500 - accuracy: 0.0000e+00 - val_loss: -313472.5938 - val_accuracy: 0.0000e+00\n",
      "Epoch 5/20\n",
      "4500/4500 [==============================] - 106s 24ms/step - loss: -438781.7812 - accuracy: 0.0000e+00 - val_loss: -541734.1875 - val_accuracy: 0.0000e+00\n",
      "Epoch 6/20\n",
      "4500/4500 [==============================] - 107s 24ms/step - loss: -627258.0625 - accuracy: 0.0000e+00 - val_loss: -745498.1875 - val_accuracy: 0.0000e+00\n",
      "Epoch 7/20\n",
      "4500/4500 [==============================] - 106s 24ms/step - loss: -856685.7500 - accuracy: 0.0000e+00 - val_loss: -999963.6250 - val_accuracy: 0.0000e+00\n",
      "Epoch 8/20\n",
      "4500/4500 [==============================] - 107s 24ms/step - loss: -1123147.3750 - accuracy: 0.0000e+00 - val_loss: -1282388.5000 - val_accuracy: 0.0000e+00\n",
      "Epoch 9/20\n",
      "4500/4500 [==============================] - 106s 24ms/step - loss: -1423449.2500 - accuracy: 0.0000e+00 - val_loss: -1608060.5000 - val_accuracy: 0.0000e+00\n",
      "Epoch 10/20\n",
      "4500/4500 [==============================] - 106s 24ms/step - loss: -1760102.8750 - accuracy: 0.0000e+00 - val_loss: -1959680.5000 - val_accuracy: 0.0000e+00\n",
      "Epoch 11/20\n",
      "4500/4500 [==============================] - 106s 24ms/step - loss: -2121554.2500 - accuracy: 0.0000e+00 - val_loss: -2346091.5000 - val_accuracy: 0.0000e+00\n",
      "Epoch 12/20\n",
      "4500/4500 [==============================] - 106s 24ms/step - loss: -2555849.7500 - accuracy: 0.0085 - val_loss: -2878342.5000 - val_accuracy: 0.0199\n",
      "Epoch 13/20\n",
      "4500/4500 [==============================] - 106s 24ms/step - loss: -3117923.2500 - accuracy: 0.0497 - val_loss: -3433716.0000 - val_accuracy: 0.0573\n",
      "Epoch 14/20\n",
      "4500/4500 [==============================] - 106s 24ms/step - loss: -3693921.7500 - accuracy: 0.0641 - val_loss: -4027244.0000 - val_accuracy: 0.0609\n",
      "Epoch 15/20\n",
      "4500/4500 [==============================] - 107s 24ms/step - loss: -4305594.5000 - accuracy: 0.0791 - val_loss: -4619192.0000 - val_accuracy: 0.0710\n",
      "Epoch 16/20\n",
      "4500/4500 [==============================] - 109s 24ms/step - loss: -4940926.0000 - accuracy: 0.0890 - val_loss: -5295782.5000 - val_accuracy: 0.1124\n",
      "Epoch 17/20\n",
      "4500/4500 [==============================] - 107s 24ms/step - loss: -5606813.5000 - accuracy: 0.0949 - val_loss: -5978097.5000 - val_accuracy: 0.0923\n",
      "Epoch 18/20\n",
      "4500/4500 [==============================] - 107s 24ms/step - loss: -6322455.0000 - accuracy: 0.1035 - val_loss: -6668872.0000 - val_accuracy: 0.1383\n",
      "Epoch 19/20\n",
      "4500/4500 [==============================] - 107s 24ms/step - loss: -7085888.5000 - accuracy: 0.1092 - val_loss: -7409118.0000 - val_accuracy: 0.0819\n",
      "Epoch 20/20\n",
      "4500/4500 [==============================] - 108s 24ms/step - loss: -7871561.5000 - accuracy: 0.1124 - val_loss: -8174403.5000 - val_accuracy: 0.1179\n"
     ]
    }
   ],
   "source": [
    "# Create your untrained model\n",
    "model = create_model(VOCAB_SIZE, EMBEDDING_DIM, MAXLEN, EMBEDDINGS_MATRIX)\n",
    "\n",
    "# Train the model and save the training history\n",
    "history = model.fit(train_pad_trunc_seq, train_labels, epochs=20, validation_data=(val_pad_trunc_seq, val_labels))"
   ]
  },
  {
   "cell_type": "markdown",
   "id": "local-headquarters",
   "metadata": {},
   "source": [
    "**To pass this assignment your `val_loss` (validation loss) should either be flat or decreasing.** \n",
    "\n",
    "Although a flat `val_loss` and a lowering `train_loss` (or just `loss`) also indicate some overfitting what you really want to avoid is having a lowering `train_loss` and an increasing `val_loss`.\n",
    "\n",
    "With this in mind, the following three curves will be acceptable solutions:"
   ]
  },
  {
   "cell_type": "markdown",
   "id": "single-studio",
   "metadata": {},
   "source": [
    "<table><tr><td><img src='images/valid-1.png'></td><td><img src='images/valid-2.jpg'></td><td><img src='images/valid-3.jpg'></td></tr></table>"
   ]
  },
  {
   "cell_type": "markdown",
   "id": "eligible-unknown",
   "metadata": {},
   "source": [
    "While the following would not be able to pass the grading:"
   ]
  },
  {
   "cell_type": "markdown",
   "id": "productive-slave",
   "metadata": {},
   "source": [
    "<table><tr><td><img src='images/invalid-1.jpg'></td></tr></table>"
   ]
  },
  {
   "cell_type": "markdown",
   "id": "helpful-tractor",
   "metadata": {},
   "source": [
    "Run the following cell to check your loss curves:"
   ]
  },
  {
   "cell_type": "code",
   "execution_count": 96,
   "id": "golden-stretch",
   "metadata": {},
   "outputs": [
    {
     "data": {
      "image/png": "[encoded data removed]",
      "text/plain": [
       "<Figure size 640x480 with 1 Axes>"
      ]
     },
     "metadata": {},
     "output_type": "display_data"
    }
   ],
   "source": [
    "#-----------------------------------------------------------\n",
    "# Retrieve a list of list results on training and test data\n",
    "# sets for each training epoch\n",
    "#-----------------------------------------------------------\n",
    "loss = history.history['loss']\n",
    "val_loss = history.history['val_loss']\n",
    "\n",
    "epochs = [*range(20)]\n",
    "\n",
    "#------------------------------------------------\n",
    "# Plot training and validation loss per epoch\n",
    "#------------------------------------------------\n",
    "plt.plot(epochs, loss, 'r')\n",
    "plt.plot(epochs, val_loss, 'b')\n",
    "plt.title('Training and validation loss')\n",
    "plt.xlabel(\"Epochs\")\n",
    "plt.ylabel(\"Loss\")\n",
    "plt.legend([\"Loss\", \"Validation Loss\"])\n",
    "plt.show()"
   ]
  },
  {
   "cell_type": "markdown",
   "id": "simplified-jacob",
   "metadata": {},
   "source": [
    "If you wish so, you can also check the training and validation accuracies of your model:"
   ]
  },
  {
   "cell_type": "code",
   "execution_count": 97,
   "id": "controlling-climb",
   "metadata": {},
   "outputs": [
    {
     "data": {
      "image/png": "[encoded data removed]",
      "text/plain": [
       "<Figure size 640x480 with 1 Axes>"
      ]
     },
     "metadata": {},
     "output_type": "display_data"
    }
   ],
   "source": [
    "acc = history.history['accuracy']\n",
    "val_acc = history.history['val_accuracy']\n",
    "\n",
    "#------------------------------------------------\n",
    "# Plot training and validation accuracy per epoch\n",
    "#------------------------------------------------\n",
    "plt.plot(epochs, acc, 'r')\n",
    "plt.plot(epochs, val_acc, 'b')\n",
    "plt.title('Training and validation accuracy')\n",
    "plt.xlabel(\"Epochs\")\n",
    "plt.ylabel(\"Accuracy\")\n",
    "plt.legend([\"Accuracy\", \"Validation Accuracy\"])\n",
    "plt.show()"
   ]
  },
  {
   "cell_type": "markdown",
   "id": "attempted-needle",
   "metadata": {},
   "source": [
    "A more rigorous way of setting the passing threshold of this assignment is to use the slope of your `val_loss` curve.\n",
    "\n",
    "**To pass this assignment the slope of your `val_loss` curve should be 0.0005 at maximum.**"
   ]
  },
  {
   "cell_type": "code",
   "execution_count": 98,
   "id": "constant-cursor",
   "metadata": {},
   "outputs": [
    {
     "name": "stdout",
     "output_type": "stream",
     "text": [
      "The slope of your validation loss curve is -430502.59303\n"
     ]
    }
   ],
   "source": [
    "# Test the slope of your val_loss curve\n",
    "slope, *_ = linregress(epochs, val_loss)\n",
    "print(f\"The slope of your validation loss curve is {slope:.5f}\")"
   ]
  },
  {
   "cell_type": "markdown",
   "id": "touched-sharing",
   "metadata": {},
   "source": [
    "**If your model generated a validation loss curve that meets the criteria above, run the following cell and then submit your assignment for grading. Otherwise, try with a different architecture.**"
   ]
  },
  {
   "cell_type": "code",
   "execution_count": 99,
   "id": "flexible-gravity",
   "metadata": {},
   "outputs": [],
   "source": [
    "with open('history.pkl', 'wb') as f:\n",
    "    pickle.dump(history.history, f)"
   ]
  },
  {
   "cell_type": "markdown",
   "id": "junior-triumph",
   "metadata": {},
   "source": [
    "**Congratulations on finishing this week's assignment!**\n",
    "\n",
    "You have successfully implemented a neural network capable of classifying sentiment in text data while doing a fairly good job of not overfitting! Nice job!\n",
    "\n",
    "**Keep it up!**"
   ]
  }
 ],
 "metadata": {
  "kernelspec": {
   "display_name": "Python 3 (Data Science)",
   "language": "python",
   "name": "python3__SAGEMAKER_INTERNAL__arn:aws:sagemaker:us-east-1:081325390199:image/datascience-1.0"
  },
  "language_info": {
   "codemirror_mode": {
    "name": "ipython",
    "version": 3
   },
   "file_extension": ".py",
   "mimetype": "text/x-python",
   "name": "python",
   "nbconvert_exporter": "python",
   "pygments_lexer": "ipython3",
   "version": "3.7.10"
  }
 },
 "nbformat": 4,
 "nbformat_minor": 5
}
